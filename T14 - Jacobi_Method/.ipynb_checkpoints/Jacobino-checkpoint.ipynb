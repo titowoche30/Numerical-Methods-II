{
 "cells": [
  {
   "cell_type": "code",
   "execution_count": 63,
   "metadata": {},
   "outputs": [],
   "source": [
    "import numpy as np\n",
    "np.set_printoptions(precision=5,suppress=True)"
   ]
  },
  {
   "cell_type": "code",
   "execution_count": 77,
   "metadata": {},
   "outputs": [],
   "source": [
    "def matriz_jacobi(A,i,j,n):\n",
    "    epsilon = 10E-6\n",
    "   \n",
    "    if abs(A[i,j]) <= epsilon: pass\n",
    "    \n",
    "    if abs(A[i,i] - A[j,j]) <= epsilon: \n",
    "        theta = np.pi/4\n",
    "    else:\n",
    "        theta = (1/2) * np.arctan((-2*A[i,j])/(A[i,i] - A[j,j]))\n",
    "        \n",
    "    J = np.eye(n)\n",
    "    J[i,i] = np.cos(theta)\n",
    "    J[j,j] = np.cos(theta)\n",
    "    J[i,j] = np.sin(theta)\n",
    "    J[j,i] = -np.sin(theta)\n",
    "    \n",
    "    return J"
   ]
  },
  {
   "cell_type": "code",
   "execution_count": 71,
   "metadata": {},
   "outputs": [],
   "source": [
    "def varredura_jacobi(A,n):\n",
    "    J_nova = np.eye(n)           #Vai conter o produto das matrizes ortogonais J_ij com os autovetores da matriz original\n",
    "    \n",
    "    A_velha = A\n",
    "    \n",
    "    for j in range(n-1):\n",
    "        for i in range(j+1,n):\n",
    "                J_ij = matriz_jacobi(A_velha,i,j,n)\n",
    "                A_nova = J_ij.T.dot(A_velha).dot(J_ij)        #Transformação de similaridade do passo ij\n",
    "                \n",
    "                A_velha = A_nova\n",
    "                J_nova = J_nova.dot(J_ij)\n",
    "    \n",
    "    \n",
    "    print(\"Matriz da varredura de Jacobi = \\n\",A_nova,'\\n')\n",
    "    return A_nova,J_nova\n",
    "    \n",
    "    "
   ]
  },
  {
   "cell_type": "code",
   "execution_count": 102,
   "metadata": {},
   "outputs": [],
   "source": [
    "def val_diag(A,n):\n",
    "    #somaDosQuadradosDosTermosAbaixoDaDiagonal\n",
    "    \n",
    "    soma = 0\n",
    "    for i in range(n-1):\n",
    "        soma += A[i+1:,i].sum()\n",
    "        \n",
    "    return soma"
   ]
  },
  {
   "cell_type": "code",
   "execution_count": 73,
   "metadata": {},
   "outputs": [],
   "source": [
    "def metodo_jacobi(A,n,epsilon):\n",
    "    val = 1\n",
    "    P = np.eye(n)\n",
    "    A_velha = A\n",
    "    \n",
    "    while val>epsilon: \n",
    "        A_nova,J = varredura_jacobi(A_velha,n)  #Devolve uma matriz que deve se aproximar de uma matriz diagonal\n",
    "        \n",
    "        A_velha = A_nova\n",
    "        \n",
    "        P = P.dot(J)\n",
    "        \n",
    "        val = val_diag(A_nova,n)                 #Verificar se a matriz já é diagonal\n",
    "        \n",
    "    print(\"Matriz diagonal A_barra com os autovalores = \\n\",A_nova,'\\n')\n",
    "    print(\"Matriz acumulada P com os autovetores = \\n\",P,'\\n')\n",
    "    autovalores = np.diag(A_nova)               #Copia os elementos da diagonal da matriz\n",
    "    \n",
    "    return P,autovalores"
   ]
  },
  {
   "cell_type": "code",
   "execution_count": 103,
   "metadata": {},
   "outputs": [
    {
     "name": "stdout",
     "output_type": "stream",
     "text": [
      "Matriz da varredura de Jacobi = \n",
      " [[48.75623  2.95937 -2.01683 -0.50311  0.09248]\n",
      " [ 2.95937 31.77518 -0.69967  0.41351  0.0615 ]\n",
      " [-2.01683 -0.69967 11.77811  0.39053 -0.04928]\n",
      " [-0.50311  0.41351  0.39053 23.67504  0.     ]\n",
      " [ 0.09248  0.0615  -0.04928  0.       4.01544]] \n",
      "\n",
      "Matriz da varredura de Jacobi = \n",
      " [[49.38314  0.01137 -0.00625 -0.00091 -0.00005]\n",
      " [ 0.01137 31.31144  0.02366  0.00074  0.00013]\n",
      " [-0.00625  0.02366 11.64246  0.00001  0.     ]\n",
      " [-0.00091  0.00074  0.00001 23.64808 -0.     ]\n",
      " [-0.00005  0.00013  0.      -0.       4.01488]] \n",
      "\n",
      "Matriz da varredura de Jacobi = \n",
      " [[49.38315 -0.       0.       0.       0.     ]\n",
      " [-0.      31.31147  0.      -0.      -0.     ]\n",
      " [ 0.       0.      11.64243  0.       0.     ]\n",
      " [ 0.      -0.       0.      23.64808 -0.     ]\n",
      " [ 0.       0.       0.      -0.       4.01488]] \n",
      "\n",
      "Matriz diagonal A_barra com os autovalores = \n",
      " [[49.38315 -0.       0.       0.       0.     ]\n",
      " [-0.      31.31147  0.      -0.      -0.     ]\n",
      " [ 0.       0.      11.64243  0.       0.     ]\n",
      " [ 0.      -0.       0.      23.64808 -0.     ]\n",
      " [ 0.       0.       0.      -0.       4.01488]] \n",
      "\n",
      "Matriz acumulada P com os autovetores = \n",
      " [[ 0.69806 -0.70728  0.04133  0.10329 -0.0091 ]\n",
      " [ 0.57987  0.5012  -0.59192 -0.24728  0.03207]\n",
      " [ 0.34487  0.32981  0.77449 -0.39382 -0.13179]\n",
      " [ 0.22686  0.36252  0.15537  0.87054 -0.18745]\n",
      " [ 0.07784  0.0914   0.15475  0.12351  0.97282]] \n",
      "\n",
      "Autovalor = 49.38315 --- Autovetor = [0.69806 0.57987 0.34487 0.22686 0.07784] \n",
      "\n",
      "Autovalor = 31.31147 --- Autovetor = [-0.70728  0.5012   0.32981  0.36252  0.0914 ] \n",
      "\n",
      "Autovalor = 11.64243 --- Autovetor = [ 0.04133 -0.59192  0.77449  0.15537  0.15475] \n",
      "\n",
      "Autovalor = 23.64808 --- Autovetor = [ 0.10329 -0.24728 -0.39382  0.87054  0.12351] \n",
      "\n",
      "Autovalor = 4.01488 --- Autovetor = [-0.0091   0.03207 -0.13179 -0.18745  0.97282] \n",
      "\n"
     ]
    }
   ],
   "source": [
    "n = 5\n",
    "A = np.array([40,8,4,2,1,8,30,12,6,2,4,12,20,1,2,2,6,1,25,4,1,2,2,4,5]).reshape(n,n)\n",
    "\n",
    "vetores,valores=metodo_jacobi(A,n,10E-6)\n",
    "\n",
    "for i in range(n):\n",
    "    print(f'Autovalor = {valores[i]:.5f}' + f' --- Autovetor = {vetores[:,i]} \\n')"
   ]
  },
  {
   "cell_type": "code",
   "execution_count": 81,
   "metadata": {},
   "outputs": [
    {
     "data": {
      "text/plain": [
       "(array([49.38315, 31.31147, 23.64808, 11.64243,  4.01488]),\n",
       " array([[-0.69806, -0.70728, -0.10329, -0.04133, -0.0091 ],\n",
       "        [-0.57987,  0.5012 ,  0.24728,  0.59192,  0.03207],\n",
       "        [-0.34487,  0.32981,  0.39382, -0.77449, -0.13179],\n",
       "        [-0.22686,  0.36252, -0.87054, -0.15537, -0.18745],\n",
       "        [-0.07784,  0.0914 , -0.12351, -0.15475,  0.97282]]))"
      ]
     },
     "execution_count": 81,
     "metadata": {},
     "output_type": "execute_result"
    }
   ],
   "source": [
    "np.linalg.eig(A)"
   ]
  },
  {
   "cell_type": "code",
   "execution_count": 37,
   "metadata": {},
   "outputs": [
    {
     "name": "stdout",
     "output_type": "stream",
     "text": [
      "[ 5 10 15 20]\n",
      "[11 16 21]\n",
      "[17 22]\n",
      "[23]\n",
      "[]\n"
     ]
    }
   ],
   "source": [
    "D = np.arange(0,25).reshape(5,5)\n",
    "for i in range(5):\n",
    "    print(D[i+1:,i])"
   ]
  },
  {
   "cell_type": "code",
   "execution_count": 36,
   "metadata": {},
   "outputs": [
    {
     "data": {
      "text/plain": [
       "array([[ 0,  1,  2,  3,  4],\n",
       "       [ 5,  6,  7,  8,  9],\n",
       "       [10, 11, 12, 13, 14],\n",
       "       [15, 16, 17, 18, 19],\n",
       "       [20, 21, 22, 23, 24]])"
      ]
     },
     "execution_count": 36,
     "metadata": {},
     "output_type": "execute_result"
    }
   ],
   "source": [
    "D"
   ]
  },
  {
   "cell_type": "code",
   "execution_count": 29,
   "metadata": {},
   "outputs": [
    {
     "data": {
      "text/plain": [
       "array([[0, 1, 2],\n",
       "       [3, 4, 5],\n",
       "       [6, 7, 8]])"
      ]
     },
     "execution_count": 29,
     "metadata": {},
     "output_type": "execute_result"
    }
   ],
   "source": [
    "A"
   ]
  },
  {
   "cell_type": "code",
   "execution_count": 33,
   "metadata": {},
   "outputs": [
    {
     "data": {
      "text/plain": [
       "11"
      ]
     },
     "execution_count": 33,
     "metadata": {},
     "output_type": "execute_result"
    }
   ],
   "source": [
    "A[1:,1].sum()"
   ]
  },
  {
   "cell_type": "code",
   "execution_count": 24,
   "metadata": {},
   "outputs": [
    {
     "data": {
      "text/plain": [
       "array([0, 4, 8])"
      ]
     },
     "execution_count": 24,
     "metadata": {},
     "output_type": "execute_result"
    }
   ],
   "source": [
    "np.diag(A)"
   ]
  },
  {
   "cell_type": "code",
   "execution_count": 12,
   "metadata": {},
   "outputs": [],
   "source": [
    "A = np.arange(0,9).reshape(3,3)\n",
    "B = np.arange(2,11).reshape(3,3)\n",
    "C = np.arange(3,12).reshape(3,3)"
   ]
  },
  {
   "cell_type": "code",
   "execution_count": 16,
   "metadata": {},
   "outputs": [
    {
     "data": {
      "text/plain": [
       "array([[1350, 1566, 1782],\n",
       "       [1692, 1962, 2232],\n",
       "       [2034, 2358, 2682]])"
      ]
     },
     "execution_count": 16,
     "metadata": {},
     "output_type": "execute_result"
    }
   ],
   "source": [
    "A.T.dot(B).dot(C)"
   ]
  },
  {
   "cell_type": "code",
   "execution_count": 17,
   "metadata": {},
   "outputs": [
    {
     "data": {
      "text/plain": [
       "array([[ 63,  72,  81],\n",
       "       [ 78,  90, 102],\n",
       "       [ 93, 108, 123]])"
      ]
     },
     "execution_count": 17,
     "metadata": {},
     "output_type": "execute_result"
    }
   ],
   "source": [
    "laga = A.T.dot(B)\n",
    "laga"
   ]
  },
  {
   "cell_type": "code",
   "execution_count": 18,
   "metadata": {},
   "outputs": [
    {
     "data": {
      "text/plain": [
       "array([[1350, 1566, 1782],\n",
       "       [1692, 1962, 2232],\n",
       "       [2034, 2358, 2682]])"
      ]
     },
     "execution_count": 18,
     "metadata": {},
     "output_type": "execute_result"
    }
   ],
   "source": [
    "laga.dot(C)"
   ]
  }
 ],
 "metadata": {
  "kernelspec": {
   "display_name": "Python 3",
   "language": "python",
   "name": "python3"
  },
  "language_info": {
   "codemirror_mode": {
    "name": "ipython",
    "version": 3
   },
   "file_extension": ".py",
   "mimetype": "text/x-python",
   "name": "python",
   "nbconvert_exporter": "python",
   "pygments_lexer": "ipython3",
   "version": "3.7.6"
  }
 },
 "nbformat": 4,
 "nbformat_minor": 4
}
